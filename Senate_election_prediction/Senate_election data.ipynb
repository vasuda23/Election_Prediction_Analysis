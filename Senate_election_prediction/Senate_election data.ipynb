{
 "cells": [
  {
   "cell_type": "code",
   "execution_count": 1,
   "metadata": {},
   "outputs": [],
   "source": [
    "import pandas as pd"
   ]
  },
  {
   "cell_type": "code",
   "execution_count": 2,
   "metadata": {},
   "outputs": [],
   "source": [
    "data = pd.read_csv(\"../Senate_election_prediction/1976_2018_senate.csv\", encoding = 'unicode_escape', index_col = 'year')"
   ]
  },
  {
   "cell_type": "code",
   "execution_count": 3,
   "metadata": {},
   "outputs": [
    {
     "data": {
      "text/html": [
       "<div>\n",
       "<style scoped>\n",
       "    .dataframe tbody tr th:only-of-type {\n",
       "        vertical-align: middle;\n",
       "    }\n",
       "\n",
       "    .dataframe tbody tr th {\n",
       "        vertical-align: top;\n",
       "    }\n",
       "\n",
       "    .dataframe thead th {\n",
       "        text-align: right;\n",
       "    }\n",
       "</style>\n",
       "<table border=\"1\" class=\"dataframe\">\n",
       "  <thead>\n",
       "    <tr style=\"text-align: right;\">\n",
       "      <th></th>\n",
       "      <th>state</th>\n",
       "      <th>state_po</th>\n",
       "      <th>state_fips</th>\n",
       "      <th>state_cen</th>\n",
       "      <th>state_ic</th>\n",
       "      <th>office</th>\n",
       "      <th>district</th>\n",
       "      <th>stage</th>\n",
       "      <th>special</th>\n",
       "      <th>candidate</th>\n",
       "      <th>party</th>\n",
       "      <th>writein</th>\n",
       "      <th>mode</th>\n",
       "      <th>candidatevotes</th>\n",
       "      <th>totalvotes</th>\n",
       "      <th>unofficial</th>\n",
       "      <th>version</th>\n",
       "    </tr>\n",
       "    <tr>\n",
       "      <th>year</th>\n",
       "      <th></th>\n",
       "      <th></th>\n",
       "      <th></th>\n",
       "      <th></th>\n",
       "      <th></th>\n",
       "      <th></th>\n",
       "      <th></th>\n",
       "      <th></th>\n",
       "      <th></th>\n",
       "      <th></th>\n",
       "      <th></th>\n",
       "      <th></th>\n",
       "      <th></th>\n",
       "      <th></th>\n",
       "      <th></th>\n",
       "      <th></th>\n",
       "      <th></th>\n",
       "    </tr>\n",
       "  </thead>\n",
       "  <tbody>\n",
       "    <tr>\n",
       "      <th>1976</th>\n",
       "      <td>Arizona</td>\n",
       "      <td>AZ</td>\n",
       "      <td>4</td>\n",
       "      <td>86</td>\n",
       "      <td>61</td>\n",
       "      <td>US Senate</td>\n",
       "      <td>statewide</td>\n",
       "      <td>gen</td>\n",
       "      <td>False</td>\n",
       "      <td>Sam Steiger</td>\n",
       "      <td>republican</td>\n",
       "      <td>False</td>\n",
       "      <td>total</td>\n",
       "      <td>321236</td>\n",
       "      <td>741210</td>\n",
       "      <td>False</td>\n",
       "      <td>20171011.0</td>\n",
       "    </tr>\n",
       "    <tr>\n",
       "      <th>1976</th>\n",
       "      <td>Arizona</td>\n",
       "      <td>AZ</td>\n",
       "      <td>4</td>\n",
       "      <td>86</td>\n",
       "      <td>61</td>\n",
       "      <td>US Senate</td>\n",
       "      <td>statewide</td>\n",
       "      <td>gen</td>\n",
       "      <td>False</td>\n",
       "      <td>Wm. Mathews Feighan</td>\n",
       "      <td>independent</td>\n",
       "      <td>False</td>\n",
       "      <td>total</td>\n",
       "      <td>1565</td>\n",
       "      <td>741210</td>\n",
       "      <td>False</td>\n",
       "      <td>20171011.0</td>\n",
       "    </tr>\n",
       "    <tr>\n",
       "      <th>1976</th>\n",
       "      <td>Arizona</td>\n",
       "      <td>AZ</td>\n",
       "      <td>4</td>\n",
       "      <td>86</td>\n",
       "      <td>61</td>\n",
       "      <td>US Senate</td>\n",
       "      <td>statewide</td>\n",
       "      <td>gen</td>\n",
       "      <td>False</td>\n",
       "      <td>Dennis DeConcini</td>\n",
       "      <td>democrat</td>\n",
       "      <td>False</td>\n",
       "      <td>total</td>\n",
       "      <td>400334</td>\n",
       "      <td>741210</td>\n",
       "      <td>False</td>\n",
       "      <td>20171011.0</td>\n",
       "    </tr>\n",
       "    <tr>\n",
       "      <th>1976</th>\n",
       "      <td>Arizona</td>\n",
       "      <td>AZ</td>\n",
       "      <td>4</td>\n",
       "      <td>86</td>\n",
       "      <td>61</td>\n",
       "      <td>US Senate</td>\n",
       "      <td>statewide</td>\n",
       "      <td>gen</td>\n",
       "      <td>False</td>\n",
       "      <td>Allan Norwitz</td>\n",
       "      <td>libertarian</td>\n",
       "      <td>False</td>\n",
       "      <td>total</td>\n",
       "      <td>7310</td>\n",
       "      <td>741210</td>\n",
       "      <td>False</td>\n",
       "      <td>20171011.0</td>\n",
       "    </tr>\n",
       "    <tr>\n",
       "      <th>1976</th>\n",
       "      <td>Arizona</td>\n",
       "      <td>AZ</td>\n",
       "      <td>4</td>\n",
       "      <td>86</td>\n",
       "      <td>61</td>\n",
       "      <td>US Senate</td>\n",
       "      <td>statewide</td>\n",
       "      <td>gen</td>\n",
       "      <td>False</td>\n",
       "      <td>Bob Field</td>\n",
       "      <td>independent</td>\n",
       "      <td>False</td>\n",
       "      <td>total</td>\n",
       "      <td>10765</td>\n",
       "      <td>741210</td>\n",
       "      <td>False</td>\n",
       "      <td>20171011.0</td>\n",
       "    </tr>\n",
       "  </tbody>\n",
       "</table>\n",
       "</div>"
      ],
      "text/plain": [
       "        state state_po  state_fips  state_cen  state_ic     office   district  \\\n",
       "year                                                                            \n",
       "1976  Arizona       AZ           4         86        61  US Senate  statewide   \n",
       "1976  Arizona       AZ           4         86        61  US Senate  statewide   \n",
       "1976  Arizona       AZ           4         86        61  US Senate  statewide   \n",
       "1976  Arizona       AZ           4         86        61  US Senate  statewide   \n",
       "1976  Arizona       AZ           4         86        61  US Senate  statewide   \n",
       "\n",
       "     stage  special            candidate        party  writein   mode  \\\n",
       "year                                                                    \n",
       "1976   gen    False          Sam Steiger   republican    False  total   \n",
       "1976   gen    False  Wm. Mathews Feighan  independent    False  total   \n",
       "1976   gen    False     Dennis DeConcini     democrat    False  total   \n",
       "1976   gen    False        Allan Norwitz  libertarian    False  total   \n",
       "1976   gen    False            Bob Field  independent    False  total   \n",
       "\n",
       "      candidatevotes  totalvotes  unofficial     version  \n",
       "year                                                      \n",
       "1976          321236      741210       False  20171011.0  \n",
       "1976            1565      741210       False  20171011.0  \n",
       "1976          400334      741210       False  20171011.0  \n",
       "1976            7310      741210       False  20171011.0  \n",
       "1976           10765      741210       False  20171011.0  "
      ]
     },
     "execution_count": 3,
     "metadata": {},
     "output_type": "execute_result"
    }
   ],
   "source": [
    "data.head(5)"
   ]
  },
  {
   "cell_type": "code",
   "execution_count": 4,
   "metadata": {},
   "outputs": [
    {
     "data": {
      "text/plain": [
       "state             3421\n",
       "state_po          3421\n",
       "state_fips        3421\n",
       "state_cen         3421\n",
       "state_ic          3421\n",
       "office            3421\n",
       "district          3421\n",
       "stage             3421\n",
       "special           3421\n",
       "candidate         3011\n",
       "party             2858\n",
       "writein           3421\n",
       "mode              3421\n",
       "candidatevotes    3421\n",
       "totalvotes        3421\n",
       "unofficial        3421\n",
       "version           3420\n",
       "dtype: int64"
      ]
     },
     "execution_count": 4,
     "metadata": {},
     "output_type": "execute_result"
    }
   ],
   "source": [
    "data.count()"
   ]
  },
  {
   "cell_type": "code",
   "execution_count": 5,
   "metadata": {},
   "outputs": [],
   "source": [
    "senate_2016 = data.loc[['2016']]\n",
    "senate_2014 = data.loc[['2014']]\n",
    "senate_2018 = data.loc[['2018']]\n",
    "# print(senate_2016.head(5))\n",
    "# print(senate_2014.head(5))\n",
    "# print(senate_2018.head(5))"
   ]
  },
  {
   "cell_type": "code",
   "execution_count": 6,
   "metadata": {},
   "outputs": [
    {
     "data": {
      "text/plain": [
       "Index(['state', 'state_po', 'state_fips', 'state_cen', 'state_ic', 'office',\n",
       "       'district', 'stage', 'special', 'candidate', 'party', 'writein', 'mode',\n",
       "       'candidatevotes', 'totalvotes', 'unofficial', 'version'],\n",
       "      dtype='object')"
      ]
     },
     "execution_count": 6,
     "metadata": {},
     "output_type": "execute_result"
    }
   ],
   "source": [
    "senate_2014.columns"
   ]
  },
  {
   "cell_type": "code",
   "execution_count": 7,
   "metadata": {},
   "outputs": [],
   "source": [
    "senate_2014 = senate_2014[['state','stage','special','candidate','party','candidatevotes','totalvotes']]\n",
    "senate_2016 = senate_2016[['state','stage','special','candidate','party','candidatevotes','totalvotes']]\n",
    "senate_2018 = senate_2018[['state','stage','special','candidate','party','candidatevotes','totalvotes']]"
   ]
  },
  {
   "cell_type": "code",
   "execution_count": 8,
   "metadata": {},
   "outputs": [],
   "source": [
    "senate_2014.to_csv('../Senate_election_prediction/senate_2014.csv')\n",
    "senate_2016.to_csv('../Senate_election_prediction/senate_2016.csv')\n",
    "senate_2018.to_csv('../Senate_election_prediction/senate_2018.csv')"
   ]
  },
  {
   "cell_type": "code",
   "execution_count": null,
   "metadata": {},
   "outputs": [],
   "source": []
  }
 ],
 "metadata": {
  "kernelspec": {
   "display_name": "Python 3",
   "language": "python",
   "name": "python3"
  },
  "language_info": {
   "codemirror_mode": {
    "name": "ipython",
    "version": 3
   },
   "file_extension": ".py",
   "mimetype": "text/x-python",
   "name": "python",
   "nbconvert_exporter": "python",
   "pygments_lexer": "ipython3",
   "version": "3.7.7"
  }
 },
 "nbformat": 4,
 "nbformat_minor": 4
}
